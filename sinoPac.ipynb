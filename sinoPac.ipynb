{
 "cells": [
  {
   "cell_type": "code",
   "execution_count": 1,
   "metadata": {},
   "outputs": [
    {
     "name": "stdout",
     "output_type": "stream",
     "text": [
      "Collecting shioaji\n",
      "  Downloading shioaji-1.1.4-cp311-cp311-win_amd64.whl (1.7 MB)\n",
      "                                              0.0/1.7 MB ? eta -:--:--\n",
      "                                              0.0/1.7 MB 660.6 kB/s eta 0:00:03\n",
      "     --                                       0.1/1.7 MB 1.1 MB/s eta 0:00:02\n",
      "     -------                                  0.3/1.7 MB 2.4 MB/s eta 0:00:01\n",
      "     -------------                            0.6/1.7 MB 3.6 MB/s eta 0:00:01\n",
      "     ----------------------                   1.0/1.7 MB 4.3 MB/s eta 0:00:01\n",
      "     ------------------------------           1.3/1.7 MB 4.9 MB/s eta 0:00:01\n",
      "     --------------------------------------   1.6/1.7 MB 5.2 MB/s eta 0:00:01\n",
      "     ---------------------------------------- 1.7/1.7 MB 4.9 MB/s eta 0:00:00\n",
      "Collecting base58 (from shioaji)\n",
      "  Downloading base58-2.1.1-py3-none-any.whl (5.6 kB)\n",
      "Collecting filelock==3.4.1 (from shioaji)\n",
      "  Downloading filelock-3.4.1-py3-none-any.whl (9.9 kB)\n",
      "Collecting importlib-metadata (from shioaji)\n",
      "  Downloading importlib_metadata-6.6.0-py3-none-any.whl (22 kB)\n",
      "Collecting loguru==0.6.0 (from shioaji)\n",
      "  Downloading loguru-0.6.0-py3-none-any.whl (58 kB)\n",
      "                                              0.0/58.3 kB ? eta -:--:--\n",
      "     ---------------------------------------- 58.3/58.3 kB 3.0 MB/s eta 0:00:00\n",
      "Collecting pydantic (from shioaji)\n",
      "  Downloading pydantic-1.10.9-cp311-cp311-win_amd64.whl (2.1 MB)\n",
      "                                              0.0/2.1 MB ? eta -:--:--\n",
      "     -------                                  0.4/2.1 MB 12.2 MB/s eta 0:00:01\n",
      "     --------------                           0.8/2.1 MB 9.7 MB/s eta 0:00:01\n",
      "     -------------------                      1.0/2.1 MB 8.2 MB/s eta 0:00:01\n",
      "     -------------------------                1.4/2.1 MB 7.8 MB/s eta 0:00:01\n",
      "     --------------------------------         1.7/2.1 MB 7.8 MB/s eta 0:00:01\n",
      "     --------------------------------------   2.0/2.1 MB 7.7 MB/s eta 0:00:01\n",
      "     ---------------------------------------- 2.1/2.1 MB 6.7 MB/s eta 0:00:00\n",
      "Collecting pynacl>=1.3.0 (from shioaji)\n",
      "  Downloading PyNaCl-1.5.0-cp36-abi3-win_amd64.whl (212 kB)\n",
      "                                              0.0/212.1 kB ? eta -:--:--\n",
      "     -------------------------------------- 212.1/212.1 kB 6.5 MB/s eta 0:00:00\n",
      "Collecting pysolace==0.9.30 (from shioaji)\n",
      "  Downloading pysolace-0.9.30-cp311-cp311-win_amd64.whl (858 kB)\n",
      "                                              0.0/858.3 kB ? eta -:--:--\n",
      "     --------------                        337.9/858.3 kB 10.6 MB/s eta 0:00:01\n",
      "     -------------------------------        716.8/858.3 kB 9.1 MB/s eta 0:00:01\n",
      "     -------------------------------------- 858.3/858.3 kB 6.8 MB/s eta 0:00:00\n",
      "Requirement already satisfied: requests in c:\\users\\danson_tsui\\appdata\\local\\packages\\pythonsoftwarefoundation.python.3.11_qbz5n2kfra8p0\\localcache\\local-packages\\python311\\site-packages (from shioaji) (2.29.0)\n",
      "Collecting sentry-sdk==1.5.12 (from shioaji)\n",
      "  Downloading sentry_sdk-1.5.12-py2.py3-none-any.whl (145 kB)\n",
      "                                              0.0/145.3 kB ? eta -:--:--\n",
      "     -------------------------------------- 145.3/145.3 kB 4.4 MB/s eta 0:00:00\n",
      "Requirement already satisfied: typing-extensions in c:\\users\\danson_tsui\\appdata\\local\\packages\\pythonsoftwarefoundation.python.3.11_qbz5n2kfra8p0\\localcache\\local-packages\\python311\\site-packages (from shioaji) (4.5.0)\n",
      "Collecting xxhash (from shioaji)\n",
      "  Downloading xxhash-3.2.0-cp311-cp311-win_amd64.whl (30 kB)\n",
      "Requirement already satisfied: colorama>=0.3.4 in c:\\users\\danson_tsui\\appdata\\local\\packages\\pythonsoftwarefoundation.python.3.11_qbz5n2kfra8p0\\localcache\\local-packages\\python311\\site-packages (from loguru==0.6.0->shioaji) (0.4.6)\n",
      "Collecting win32-setctime>=1.0.0 (from loguru==0.6.0->shioaji)\n",
      "  Downloading win32_setctime-1.1.0-py3-none-any.whl (3.6 kB)\n",
      "Collecting orjson (from pysolace==0.9.30->shioaji)\n",
      "  Downloading orjson-3.9.0-cp311-none-win_amd64.whl (191 kB)\n",
      "                                              0.0/191.7 kB ? eta -:--:--\n",
      "     -------------------------------------- 191.7/191.7 kB 5.7 MB/s eta 0:00:00\n",
      "Collecting msgpack (from pysolace==0.9.30->shioaji)\n",
      "  Downloading msgpack-1.0.5-cp311-cp311-win_amd64.whl (60 kB)\n",
      "                                              0.0/60.8 kB ? eta -:--:--\n",
      "     ---------------------------------------- 60.8/60.8 kB 3.2 MB/s eta 0:00:00\n",
      "Requirement already satisfied: urllib3>=1.10.0 in c:\\users\\danson_tsui\\appdata\\local\\packages\\pythonsoftwarefoundation.python.3.11_qbz5n2kfra8p0\\localcache\\local-packages\\python311\\site-packages (from sentry-sdk==1.5.12->shioaji) (1.26.15)\n",
      "Requirement already satisfied: certifi in c:\\users\\danson_tsui\\appdata\\local\\packages\\pythonsoftwarefoundation.python.3.11_qbz5n2kfra8p0\\localcache\\local-packages\\python311\\site-packages (from sentry-sdk==1.5.12->shioaji) (2022.12.7)\n",
      "Requirement already satisfied: cffi>=1.4.1 in c:\\users\\danson_tsui\\appdata\\local\\packages\\pythonsoftwarefoundation.python.3.11_qbz5n2kfra8p0\\localcache\\local-packages\\python311\\site-packages (from pynacl>=1.3.0->shioaji) (1.15.1)\n",
      "Collecting zipp>=0.5 (from importlib-metadata->shioaji)\n",
      "  Downloading zipp-3.15.0-py3-none-any.whl (6.8 kB)\n",
      "Requirement already satisfied: charset-normalizer<4,>=2 in c:\\users\\danson_tsui\\appdata\\local\\packages\\pythonsoftwarefoundation.python.3.11_qbz5n2kfra8p0\\localcache\\local-packages\\python311\\site-packages (from requests->shioaji) (3.1.0)\n",
      "Requirement already satisfied: idna<4,>=2.5 in c:\\users\\danson_tsui\\appdata\\local\\packages\\pythonsoftwarefoundation.python.3.11_qbz5n2kfra8p0\\localcache\\local-packages\\python311\\site-packages (from requests->shioaji) (3.4)\n",
      "Requirement already satisfied: pycparser in c:\\users\\danson_tsui\\appdata\\local\\packages\\pythonsoftwarefoundation.python.3.11_qbz5n2kfra8p0\\localcache\\local-packages\\python311\\site-packages (from cffi>=1.4.1->pynacl>=1.3.0->shioaji) (2.21)\n",
      "Installing collected packages: msgpack, zipp, xxhash, win32-setctime, sentry-sdk, pydantic, orjson, filelock, base58, pynacl, loguru, importlib-metadata, pysolace, shioaji\n",
      "Successfully installed base58-2.1.1 filelock-3.4.1 importlib-metadata-6.6.0 loguru-0.6.0 msgpack-1.0.5 orjson-3.9.0 pydantic-1.10.9 pynacl-1.5.0 pysolace-0.9.30 sentry-sdk-1.5.12 shioaji-1.1.4 win32-setctime-1.1.0 xxhash-3.2.0 zipp-3.15.0\n"
     ]
    }
   ],
   "source": [
    "!pip install shioaji"
   ]
  },
  {
   "cell_type": "code",
   "execution_count": 4,
   "metadata": {},
   "outputs": [
    {
     "name": "stdout",
     "output_type": "stream",
     "text": [
      "Response Code: 0 | Event Code: 0 | Info: host '203.66.91.161:80', hostname '203.66.91.161:80' IP 203.66.91.161:80 (host 1 of 1) (host connection attempt 1 of 1) (total connection attempt 1 of 1) | Event: Session up\n"
     ]
    },
    {
     "ename": "ValueError",
     "evalue": "The seed must be exactly 32 bytes long",
     "output_type": "error",
     "traceback": [
      "\u001b[1;31m---------------------------------------------------------------------------\u001b[0m",
      "\u001b[1;31mValueError\u001b[0m                                Traceback (most recent call last)",
      "Cell \u001b[1;32mIn[4], line 8\u001b[0m\n\u001b[0;32m      5\u001b[0m api \u001b[39m=\u001b[39m sj\u001b[39m.\u001b[39mShioaji()\n\u001b[0;32m      7\u001b[0m \u001b[39m# 登入帳號\u001b[39;00m\n\u001b[1;32m----> 8\u001b[0m api\u001b[39m.\u001b[39;49mlogin(\u001b[39m\"\u001b[39;49m\u001b[39mV120262283\u001b[39;49m\u001b[39m\"\u001b[39;49m, \u001b[39m\"\u001b[39;49m\u001b[39m5jz7NRDFzPRbkNxz\u001b[39;49m\u001b[39m\"\u001b[39;49m, contracts_cb\u001b[39m=\u001b[39;49m\u001b[39mlambda\u001b[39;49;00m security_type: \u001b[39mprint\u001b[39;49m(\u001b[39mf\u001b[39;49m\u001b[39m\"\u001b[39;49m\u001b[39m{\u001b[39;49;00m\u001b[39mrepr\u001b[39;49m(security_type)\u001b[39m}\u001b[39;49;00m\u001b[39m fetch done.\u001b[39;49m\u001b[39m\"\u001b[39;49m)\n\u001b[0;32m      9\u001b[0m )\n\u001b[0;32m     11\u001b[0m \u001b[39m# 匯入憑證\u001b[39;00m\n\u001b[0;32m     12\u001b[0m api\u001b[39m.\u001b[39mactivate_ca(\n\u001b[0;32m     13\u001b[0m     ca_path\u001b[39m=\u001b[39m\u001b[39m\"\u001b[39m\u001b[39m/c/your/ca/path/Sinopac.pfx\u001b[39m\u001b[39m\"\u001b[39m,\n\u001b[0;32m     14\u001b[0m     ca_passwd\u001b[39m=\u001b[39m\u001b[39m\"\u001b[39m\u001b[39mYOUR_CA_PASSWORD\u001b[39m\u001b[39m\"\u001b[39m,\n\u001b[0;32m     15\u001b[0m     person_id\u001b[39m=\u001b[39m\u001b[39m\"\u001b[39m\u001b[39mPerson of this Ca\u001b[39m\u001b[39m\"\u001b[39m,\n\u001b[0;32m     16\u001b[0m )\n",
      "File \u001b[1;32m~\\AppData\\Local\\Packages\\PythonSoftwareFoundation.Python.3.11_qbz5n2kfra8p0\\LocalCache\\local-packages\\Python311\\site-packages\\shioaji\\shioaji.py:317\u001b[0m, in \u001b[0;36mShioaji.login\u001b[1;34m(self, api_key, secret_key, fetch_contract, contracts_timeout, contracts_cb, subscribe_trade, receive_window)\u001b[0m\n\u001b[0;32m    311\u001b[0m     accounts, contract_download \u001b[39m=\u001b[39m \u001b[39mself\u001b[39m\u001b[39m.\u001b[39m_solace\u001b[39m.\u001b[39msimulation_login(\n\u001b[0;32m    312\u001b[0m         simulation_token,\n\u001b[0;32m    313\u001b[0m         person_id,\n\u001b[0;32m    314\u001b[0m         subscribe_trade,\n\u001b[0;32m    315\u001b[0m     )\n\u001b[0;32m    316\u001b[0m \u001b[39melse\u001b[39;00m:\n\u001b[1;32m--> 317\u001b[0m     accounts, contract_download, person_id \u001b[39m=\u001b[39m \u001b[39mself\u001b[39;49m\u001b[39m.\u001b[39;49m_solace\u001b[39m.\u001b[39;49mtoken_login(\n\u001b[0;32m    318\u001b[0m         api_key, secret_key, subscribe_trade, receive_window\n\u001b[0;32m    319\u001b[0m     )\n\u001b[0;32m    320\u001b[0m \u001b[39mif\u001b[39;00m accounts:\n\u001b[0;32m    321\u001b[0m     \u001b[39mwith\u001b[39;00m configure_scope() \u001b[39mas\u001b[39;00m scope:\n",
      "File \u001b[1;32mshioaji\\backend\\solace\\api.pyx:540\u001b[0m, in \u001b[0;36mshioaji.backend.solace.api.SolaceAPI.token_login\u001b[1;34m()\u001b[0m\n",
      "File \u001b[1;32m~\\AppData\\Local\\Packages\\PythonSoftwareFoundation.Python.3.11_qbz5n2kfra8p0\\LocalCache\\local-packages\\Python311\\site-packages\\nacl\\signing.py:183\u001b[0m, in \u001b[0;36mSigningKey.__init__\u001b[1;34m(self, seed, encoder)\u001b[0m\n\u001b[0;32m    181\u001b[0m \u001b[39m# Verify that our seed is the proper size\u001b[39;00m\n\u001b[0;32m    182\u001b[0m \u001b[39mif\u001b[39;00m \u001b[39mlen\u001b[39m(seed) \u001b[39m!=\u001b[39m nacl\u001b[39m.\u001b[39mbindings\u001b[39m.\u001b[39mcrypto_sign_SEEDBYTES:\n\u001b[1;32m--> 183\u001b[0m     \u001b[39mraise\u001b[39;00m exc\u001b[39m.\u001b[39mValueError(\n\u001b[0;32m    184\u001b[0m         \u001b[39m\"\u001b[39m\u001b[39mThe seed must be exactly \u001b[39m\u001b[39m%d\u001b[39;00m\u001b[39m bytes long\u001b[39m\u001b[39m\"\u001b[39m\n\u001b[0;32m    185\u001b[0m         \u001b[39m%\u001b[39m nacl\u001b[39m.\u001b[39mbindings\u001b[39m.\u001b[39mcrypto_sign_SEEDBYTES\n\u001b[0;32m    186\u001b[0m     )\n\u001b[0;32m    188\u001b[0m public_key, secret_key \u001b[39m=\u001b[39m nacl\u001b[39m.\u001b[39mbindings\u001b[39m.\u001b[39mcrypto_sign_seed_keypair(seed)\n\u001b[0;32m    190\u001b[0m \u001b[39mself\u001b[39m\u001b[39m.\u001b[39m_seed \u001b[39m=\u001b[39m seed\n",
      "\u001b[1;31mValueError\u001b[0m: The seed must be exactly 32 bytes long"
     ]
    }
   ],
   "source": [
    "# 匯入 Shioaji 套件\n",
    "import shioaji as sj\n",
    "\n",
    "# 建立 Shioaji api 物件\n",
    "api = sj.Shioaji()\n",
    "\n",
    "# 登入帳號\n",
    "api.login(\"V120262283\", \"5jz7NRDFzPRbkNxz\")\n",
    ")\n",
    "\n",
    "# 匯入憑證\n",
    "api.activate_ca(\n",
    "    ca_path=\"/c/your/ca/path/Sinopac.pfx\",\n",
    "    ca_passwd=\"YOUR_CA_PASSWORD\",\n",
    "    person_id=\"Person of this Ca\",\n",
    ")"
   ]
  }
 ],
 "metadata": {
  "kernelspec": {
   "display_name": "Python 3",
   "language": "python",
   "name": "python3"
  },
  "language_info": {
   "codemirror_mode": {
    "name": "ipython",
    "version": 3
   },
   "file_extension": ".py",
   "mimetype": "text/x-python",
   "name": "python",
   "nbconvert_exporter": "python",
   "pygments_lexer": "ipython3",
   "version": "3.11.3"
  },
  "orig_nbformat": 4
 },
 "nbformat": 4,
 "nbformat_minor": 2
}
