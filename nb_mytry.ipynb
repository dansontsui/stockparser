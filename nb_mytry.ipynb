{
 "metadata": {
  "language_info": {
   "codemirror_mode": {
    "name": "ipython",
    "version": 3
   },
   "file_extension": ".py",
   "mimetype": "text/x-python",
   "name": "python",
   "nbconvert_exporter": "python",
   "pygments_lexer": "ipython3",
   "version": "3.7.10-final"
  },
  "orig_nbformat": 2,
  "kernelspec": {
   "name": "python3710jvsc74a57bd0b5f1967ec83978c9a1d38390ae6c1edd99447455f062adaa912f459cad80d3da",
   "display_name": "Python 3.7.10 64-bit ('finlab': conda)"
  }
 },
 "nbformat": 4,
 "nbformat_minor": 2,
 "cells": [
  {
   "cell_type": "code",
   "execution_count": null,
   "metadata": {},
   "outputs": [],
   "source": [
    "import logging\n",
    "\n",
    "logger = logging.getLogger('Log.Parser1')\n",
    "logger.setLevel(logging.DEBUG)\n",
    "#formatter = logging.Formatter('%(asctime)s - %(name)s - %(levelname)s - %(message)s',datefmt='%m-%d %H:%M:%S')\n",
    "formatter = logging.Formatter('%(asctime)s - %(message)s',datefmt='%m-%d %H:%M:%S')\n",
    "fh1 = logging.FileHandler(filename=\"nb_mytry.py.log\", mode='a')\n",
    "console = logging.StreamHandler()\n",
    "console.setFormatter(formatter)\n",
    "console.setLevel(logging.INFO)\n",
    "fh1.setLevel(logging.DEBUG)\n",
    "fh1.setFormatter(formatter)\n",
    "logger.addHandler(console)\n",
    "logger.addHandler(fh1)\n",
    "\n"
   ]
  },
  {
   "cell_type": "code",
   "execution_count": null,
   "metadata": {},
   "outputs": [],
   "source": [
    "def log(*args):\n",
    "    logger1 = logging.getLogger('Log.Parser1')\n",
    "    logger1.info(' '.join([str(arg) for arg in args]))"
   ]
  },
  {
   "cell_type": "code",
   "execution_count": null,
   "metadata": {},
   "outputs": [],
   "source": [
    "log(\"st\")\n",
    "a = 10\n",
    "log(\"st\",a,3,4)\n"
   ]
  },
  {
   "cell_type": "code",
   "execution_count": null,
   "metadata": {},
   "outputs": [],
   "source": [
    "import numpy\n",
    "import pandas as pd\n",
    "df = pd.read_csv('db/8299_database_1.csv',encoding='utf-8',index_col='日期')\n",
    "df.tail()\n",
    "\n",
    "\n",
    "#df.index = pd.to_datetime(date.strftime('%Y %m %d ') + pd.Series(df.index))\n",
    "#df.head()"
   ]
  },
  {
   "cell_type": "code",
   "execution_count": null,
   "metadata": {},
   "outputs": [],
   "source": [
    "import pandas as pd\n",
    "import datetime\n",
    "date = datetime.date(2018,1,3)\n",
    "#df.index = df['日期']\n",
    "df.index = pd.to_datetime(pd.Series(df.index))\n",
    "#df = df.reset_index(df['日期'])\n",
    "df.tail()\n",
    "df.to_pickle('db/8299.pkl')"
   ]
  },
  {
   "cell_type": "code",
   "execution_count": null,
   "metadata": {},
   "outputs": [],
   "source": [
    "import pandas as pd\n",
    "col = '合庫'\n",
    "df1 = pd.read_pickle('db/8299.pkl')\n",
    "\n",
    "sc  = df1['收盤']\n",
    "print(sc.head())\n",
    "close_ = sc.diff()\n",
    "close_"
   ]
  },
  {
   "cell_type": "code",
   "execution_count": null,
   "metadata": {},
   "outputs": [],
   "source": [
    "\n",
    "import pandas as pd\n",
    "col = '合庫'\n",
    "#df1 = pd.read_pickle('db/8299.pkl')\n",
    "df1[col].tail()\n",
    "d1 = pd.Series(df1[col])\n",
    "d2 = d1.diff()#d1-d1.shift(1)\n",
    "print(df1[col].head(10))\n",
    "print(d2.head(10))"
   ]
  },
  {
   "cell_type": "code",
   "execution_count": null,
   "metadata": {},
   "outputs": [],
   "source": [
    "s = df1['合庫'].diff()\n",
    "print(df1['合庫'].head(10))\n",
    "print(s.head(10))\n",
    "d2 = d1-d1.shift(1)\n",
    "print(d2.head(10))\n"
   ]
  },
  {
   "cell_type": "code",
   "execution_count": 71,
   "metadata": {},
   "outputs": [
    {
     "output_type": "stream",
     "name": "stdout",
     "text": [
      "str :3.56,3.44,3.33\n[['aa', 100]]\n[[0, 1, 0.1]]\n"
     ]
    },
    {
     "output_type": "execute_result",
     "data": {
      "text/plain": [
       "  name sum  check\n",
       "0    0   1    0.1"
      ],
      "text/html": "<div>\n<style scoped>\n    .dataframe tbody tr th:only-of-type {\n        vertical-align: middle;\n    }\n\n    .dataframe tbody tr th {\n        vertical-align: top;\n    }\n\n    .dataframe thead th {\n        text-align: right;\n    }\n</style>\n<table border=\"1\" class=\"dataframe\">\n  <thead>\n    <tr style=\"text-align: right;\">\n      <th></th>\n      <th>name</th>\n      <th>sum</th>\n      <th>check</th>\n    </tr>\n  </thead>\n  <tbody>\n    <tr>\n      <th>0</th>\n      <td>0</td>\n      <td>1</td>\n      <td>0.1</td>\n    </tr>\n  </tbody>\n</table>\n</div>"
     },
     "metadata": {},
     "execution_count": 71
    }
   ],
   "source": [
    "print('str :{:.2f},{:.2f},{:.2f}'.format(3.555,3.444,3.333))\n",
    "column = ['name','sum','check']\n",
    "dataa = [['aa',55],['bb',66]]\n",
    "datab = [['aa',100]]\n",
    "a=0\n",
    "b=1\n",
    "c=0.1\n",
    "datac=[[a,b,c]]\n",
    "#datac[0].append(12)\n",
    "#datac[0].append(34)\n",
    "print(datab)\n",
    "print(datac)\n",
    "dd = pd.DataFrame(columns=column)\n",
    "\n",
    "d1 = pd.DataFrame(datac, columns=column)\n",
    "d1\n",
    "d2= dd.append(d1)\n",
    "d2\n",
    "\n",
    "#dd.appen(pd.DataFrame(dataa, columns=column))\n",
    "\n",
    "\n",
    "\n",
    "\n"
   ]
  },
  {
   "cell_type": "code",
   "execution_count": 125,
   "metadata": {
    "tags": []
   },
   "outputs": [],
   "source": [
    "\n",
    "#print(df1.head())\n",
    "\n",
    "def stragy(overbuy,d,maxlist):\n",
    "    #overbuy = 30\n",
    "    startcal = 0\n",
    "    max = 0\n",
    "    total = 0\n",
    "    print('start')\n",
    "    profit5 =  close_.shift(d*-1) - close_.shift(-1)\n",
    "    \n",
    "    column = ['name','sum','overbuy','day','win','count']\n",
    "    maxlist = pd.DataFrame(columns = column)\n",
    "    \n",
    "    \n",
    "    for col in df1.columns:\n",
    "        if col == '最低':\n",
    "            startcal = 1\n",
    "            continue\n",
    "        if startcal:        \n",
    "            d1 = pd.Series(df1[col])\n",
    "            d2 = d1.diff()\n",
    "            #d2 = d2.dropna()\n",
    "            k = profit5[d2>overbuy]\n",
    "            k = k-4 #手續費 滑價\n",
    "            p = k[k > 0]\n",
    "            n = k[k <=0]\n",
    "            t = k.sum()\n",
    "            #t =t-(len(k) * 4)\n",
    "            if t > max:\n",
    "                max = t\n",
    "                if len(k) >=10 and (len(p)/len(k))>=0.1:\n",
    "                    #datac.append(col)\n",
    "                    datac=[[col,t,overbuy,d,len(p)/len(k),len(k)]]\n",
    "\n",
    "                    #datac=[[1,1,1,1,3,1]]\n",
    "                    d1 = pd.DataFrame(datac, columns=column)\n",
    "                    maxlist=maxlist.append(d1)\n",
    "                    print('------------maxlist---------')\n",
    "                    print(maxlist.head())\n",
    "                    \n",
    "                    ss = '{:<10},sum:{:},overbuy :{:}, day:{:},win:[{:.2f}%],count:{:}'.format(col,t,overbuy,d,len(p)/len(k),len(k))\n",
    "                    \n",
    "                #log(col , 'sum:',t , ',win:{:}-[{:.2f}%]'.format(len(p),len(p)/len(k)),',lose:{:}-[{:.2f}%]'.format(len(n),len(n)/len(k)),',count :' , len(k))\n",
    "                #log(k)\n",
    "                #print('n >> ' , len(n))\n",
    "                #print('count>>' , len(k))\n",
    "                #print(col , \">>>\" , t)\n",
    "                total += t\n",
    "    return total,maxlist\n",
    "\n"
   ]
  },
  {
   "cell_type": "code",
   "execution_count": 126,
   "metadata": {},
   "outputs": [
    {
     "output_type": "stream",
     "name": "stdout",
     "text": [
      "start\n",
      "------------maxlist---------\n",
      "  name   sum overbuy day       win count\n",
      "0   元富  38.0      16   5  0.583333    12\n",
      "out\n",
      "Empty DataFrame\n",
      "Columns: []\n",
      "Index: []\n"
     ]
    }
   ],
   "source": [
    "#maxlist=[]\n",
    "#maxlist = pd.DataFrame()\n",
    "total,maxlist = stragy(16,5,maxlist)\n",
    "print('out')\n",
    "print(maxlist)\n",
    "#log(maxlist)\n",
    "#for i in range(0,len(maxlist)):\n",
    "#    log(maxlist[i])\n"
   ]
  },
  {
   "cell_type": "code",
   "execution_count": null,
   "metadata": {},
   "outputs": [],
   "source": [
    "maxlist"
   ]
  },
  {
   "cell_type": "code",
   "execution_count": null,
   "metadata": {
    "tags": [
     "outputPrepend"
    ]
   },
   "outputs": [],
   "source": [
    "#stragy(30,6)\n",
    "max = 0\n",
    "ss = ''\n",
    "maxlist=[]\n",
    "for s in range(5,150):\n",
    "    for d in range(2,21):\n",
    "        log('overbuy : ' + str(s)+' day :' + str(d))\n",
    "        total = stragy(s,d,maxlist)\n",
    "        if total > max:\n",
    "            ss = 'overbuy : ' + str(s)+' day :' + str(d)\n",
    "            max = total\n",
    "        log('total:' + str(total)+'\\n')\n",
    "log('----final-------')\n",
    "log(ss)\n",
    "log('----single best-------')\n",
    "for i in range(0,len(maxlist)):\n",
    "    log(maxlist[i])"
   ]
  },
  {
   "cell_type": "code",
   "execution_count": null,
   "metadata": {},
   "outputs": [],
   "source": [
    "'''overbuy : 25 day :13\n",
    "合庫>>>165.0\n",
    "日盛-頭份>>>187.0\n",
    "宏遠>>>312.5\n",
    "美林>>>616.5\n",
    "瑞士信貸>>>622.0\n",
    "摩根大通>>>696.0\n",
    "total:2599.0'''\n"
   ]
  },
  {
   "cell_type": "code",
   "execution_count": null,
   "metadata": {},
   "outputs": [],
   "source": []
  }
 ]
}